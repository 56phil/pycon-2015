{
 "cells": [
  {
   "cell_type": "markdown",
   "metadata": {},
   "source": [
    "##plotly widgets\n",
    "\n",
    "In addition to creating figures by sending data and embedding the result, the plotly module offers an alternative (faster) workflow by leveraging IPython/Jupyter's communication channels."
   ]
  },
  {
   "cell_type": "code",
   "execution_count": 1,
   "metadata": {
    "collapsed": false
   },
   "outputs": [
    {
     "name": "stderr",
     "output_type": "stream",
     "text": [
      ":0: FutureWarning:\n",
      "\n",
      "IPython widgets are experimental and may change in the future.\n",
      "\n"
     ]
    },
    {
     "data": {
      "application/javascript": [
       "window.genUID = function() {\n",
       "    return 'xxxxxxxx-xxxx-4xxx-yxxx-xxxxxxxxxxxx'.replace(/[xy]/g, function(c) {\n",
       "        var r = Math.random()*16|0, v = c == 'x' ? r : (r&0x3|0x8);\n",
       "        return v.toString(16);\n",
       "    });\n",
       "};\n",
       "\n",
       "var IPYTHON_VERSION = '3';\n",
       "\n",
       "require([\"widgets/js/widget\", \"widgets/js/manager\"], function (widget, manager) {\n",
       "    if (!('DOMWidgetView' in widget)) {\n",
       "\n",
       "        // we're in IPython2, things moved a bit from 2 --> 3.\n",
       "        // construct the expected IPython3 widget API\n",
       "        IPYTHON_VERSION = '2';\n",
       "        manager = {WidgetManager: widget};\n",
       "        widget = {DOMWidgetView: IPython.DOMWidgetView};\n",
       "    }\n",
       "\n",
       "    var GraphView = widget.DOMWidgetView.extend({\n",
       "        render: function(){\n",
       "            var that = this;\n",
       "\n",
       "            var graphId = window.genUID();\n",
       "            var loadingId = 'loading-'+graphId;\n",
       "\n",
       "\n",
       "            var _graph_url = that.model.get('_graph_url');\n",
       "\n",
       "            // variable plotlyDomain in the case of enterprise\n",
       "            var url_parts = _graph_url.split('/');\n",
       "            var plotlyDomain = url_parts[0] + '//' + url_parts[2];\n",
       "\n",
       "            if(!('plotlyDomains' in window)){\n",
       "                window.plotlyDomains = {};\n",
       "            }\n",
       "            window.plotlyDomains[graphId] = plotlyDomain;\n",
       "\n",
       "            // Place IFrame in output cell div `$el`\n",
       "            that.$el.css('width', '100%');\n",
       "            that.$graph = $(['<iframe id=\"'+graphId+'\"',\n",
       "                             'src=\"'+_graph_url+'.embed\"',\n",
       "                             'seamless',\n",
       "                             'style=\"border: none;\"',\n",
       "                             'width=\"100%\"',\n",
       "                             'height=\"600\">',\n",
       "                             '</iframe>'].join(' '));\n",
       "            that.$graph.appendTo(that.$el);\n",
       "\n",
       "            that.$loading = $('<div id=\"'+loadingId+'\">Initializing...</div>')\n",
       "                            .appendTo(that.$el);\n",
       "\n",
       "            // for some reason the 'width' is being changed in IPython 3.0.0\n",
       "            // for the containing `div` element. There's a flicker here, but\n",
       "            // I was unable to fix it otherwise.\n",
       "            setTimeout(function ()  {\n",
       "                if (IPYTHON_VERSION === '3') {\n",
       "                    $('#' + graphId)[0].parentElement.style.width = '100%';\n",
       "                }\n",
       "            }, 500);\n",
       "\n",
       "            // initialize communication with the iframe\n",
       "            if(!('pingers' in window)){\n",
       "                window.pingers = {};\n",
       "            }\n",
       "\n",
       "            window.pingers[graphId] = setInterval(function() {\n",
       "                that.graphContentWindow = $('#'+graphId)[0].contentWindow;\n",
       "                that.graphContentWindow.postMessage({task: 'ping'}, plotlyDomain);\n",
       "            }, 200);\n",
       "\n",
       "            // Assign a message listener to the 'message' events\n",
       "            // from iframe's postMessage protocol.\n",
       "            // Filter the messages by iframe src so that the right message\n",
       "            // gets passed to the right widget\n",
       "            if(!('messageListeners' in window)){\n",
       "                 window.messageListeners = {};\n",
       "            }\n",
       "\n",
       "            window.messageListeners[graphId] = function(e) {\n",
       "                if(_graph_url.indexOf(e.origin)>-1) {\n",
       "                    var frame = document.getElementById(graphId);\n",
       "\n",
       "                    if(frame === null){\n",
       "                        // frame doesn't exist in the dom anymore, clean up it's old event listener\n",
       "                        window.removeEventListener('message', window.messageListeners[graphId]);\n",
       "                        clearInterval(window.pingers[graphId]);\n",
       "                    } else if(frame.contentWindow === e.source) {\n",
       "                        // TODO: Stop event propagation, so each frame doesn't listen and filter\n",
       "                        var frameContentWindow = $('#'+graphId)[0].contentWindow;\n",
       "                        var message = e.data;\n",
       "\n",
       "                        if('pong' in message && message.pong) {\n",
       "                            $('#loading-'+graphId).hide();\n",
       "                            clearInterval(window.pingers[graphId]);\n",
       "                            that.send({event: 'pong', graphId: graphId});\n",
       "                        } else if (message.type==='hover' ||\n",
       "                                   message.type==='zoom'  ||\n",
       "                                   message.type==='click' ||\n",
       "                                   message.type==='unhover') {\n",
       "\n",
       "                            // click and hover events contain all of the data in the traces,\n",
       "                            // which can be a very large object and may take a ton of time\n",
       "                            // to pass to the python backend. Strip out the data, and require\n",
       "                            // the user to call get_figure if they need trace information\n",
       "                            if(message.type !== 'zoom') {\n",
       "                                for(var i in message.points) {\n",
       "                                    delete message.points[i].data;\n",
       "                                    delete message.points[i].fullData;\n",
       "                                }\n",
       "                            }\n",
       "                            that.send({event: message.type, message: message, graphId: graphId});\n",
       "                        } else if (message.task === 'getAttributes') {\n",
       "                            that.send({event: 'getAttributes', response: message.response});\n",
       "                        }\n",
       "                    }\n",
       "                }\n",
       "            };\n",
       "\n",
       "            window.removeEventListener('message', window.messageListeners[graphId]);\n",
       "            window.addEventListener('message', window.messageListeners[graphId]);\n",
       "\n",
       "        },\n",
       "\n",
       "        update: function() {\n",
       "            // Listen for messages from the graph widget in python\n",
       "            var jmessage = this.model.get('_message');\n",
       "            var message = JSON.parse(jmessage);\n",
       "\n",
       "            // check for duplicate messages\n",
       "            if(!('messageIds' in window)){\n",
       "                window.messageIds = {};\n",
       "            }\n",
       "\n",
       "            if(!(message.uid in window.messageIds)){\n",
       "                // message hasn't been received yet, do stuff\n",
       "                window.messageIds[message.uid] = true;\n",
       "\n",
       "                if (message.fadeTo) {\n",
       "                    this.fadeTo(message);\n",
       "                } else {\n",
       "                    var plot = $('#' + message.graphId)[0].contentWindow;\n",
       "                    plot.postMessage(message, window.plotlyDomains[message.graphId]);\n",
       "                }\n",
       "            }\n",
       "\n",
       "            return GraphView.__super__.update.apply(this);\n",
       "        },\n",
       "\n",
       "        /**\n",
       "         * Wrapper for jquery's `fadeTo` function.\n",
       "         *\n",
       "         * @param message Contains the id we need to find the element.\n",
       "         */\n",
       "        fadeTo: function (message) {\n",
       "            var plot = $('#' + message.graphId);\n",
       "            plot.fadeTo(message.duration, message.opacity);\n",
       "        }\n",
       "    });\n",
       "\n",
       "    // Register the GraphView with the widget manager.\n",
       "    manager.WidgetManager.register_widget_view('GraphView', GraphView);\n",
       "\n",
       "});\n",
       "\n",
       "//@ sourceURL=graphWidget.js\n"
      ],
      "text/plain": [
       "<IPython.core.display.Javascript object>"
      ]
     },
     "metadata": {},
     "output_type": "display_data"
    }
   ],
   "source": [
    "# we'll import everything for the whole NB, just to be a little organized upfront\n",
    "import random\n",
    "\n",
    "import numpy as np\n",
    "import plotly.plotly as py\n",
    "from IPython.display import display\n",
    "from IPython.html import widgets\n",
    "from plotly.graph_objs import Bar, Figure, Scatter, XAxis, YAxis\n",
    "from plotly.widgets import GraphWidget"
   ]
  },
  {
   "cell_type": "markdown",
   "metadata": {},
   "source": [
    "##what's a widget?\n",
    "\n",
    "Jupyter widgets let the user interact with browser in JS. This allows the frontend JS to communicate with running Python session via callbacks. Therefore, you can use Python within a Notebook to talk to the JS code controlling the widget.\n",
    "\n",
    "Confused? Here's a simple example of a slider."
   ]
  },
  {
   "cell_type": "code",
   "execution_count": 2,
   "metadata": {
    "collapsed": false
   },
   "outputs": [],
   "source": [
    "int_slider = widgets.IntSlider()\n",
    "display(int_slider)"
   ]
  },
  {
   "cell_type": "markdown",
   "metadata": {},
   "source": [
    "##and now, some magic\n",
    "\n",
    "We can update the slider value (this lives in JS-land) just by changing the *Python* objects value in the notebook.\n",
    "\n",
    "When you run the following cell, the slider will update!"
   ]
  },
  {
   "cell_type": "code",
   "execution_count": 3,
   "metadata": {
    "collapsed": true
   },
   "outputs": [],
   "source": [
    "int_slider.value = random.randint(0, 100)"
   ]
  },
  {
   "cell_type": "markdown",
   "metadata": {},
   "source": [
    "##and now, some *useful* magic\n",
    "\n",
    "More importantly, we can register callbacks on the widgets so that changes in JS-land can actually *cause methods to run in Python*.\n",
    "\n",
    "After running the following cell, moving the slider above will cause `display_value` to run and you'll (quite annoyingly) see the values of the slider displayed."
   ]
  },
  {
   "cell_type": "code",
   "execution_count": 4,
   "metadata": {
    "collapsed": false
   },
   "outputs": [],
   "source": [
    "def display_value():\n",
    "    display(int_slider.value)\n",
    "\n",
    "int_slider.on_trait_change(display_value, 'value')"
   ]
  },
  {
   "cell_type": "markdown",
   "metadata": {},
   "source": [
    "##--> slide calculator challenge <--\n",
    "\n",
    "Create callbacks for the two sliders shown below. Changes to the first slider should update the second slider such that the second slider shows the result of sin(slider_one.value)."
   ]
  },
  {
   "cell_type": "code",
   "execution_count": 5,
   "metadata": {
    "collapsed": false
   },
   "outputs": [],
   "source": [
    "slider_one = widgets.FloatSlider(min=0, max=2*np.pi, step=.01)\n",
    "slider_two = widgets.FloatSlider(min=-1, max=1, step=.01)\n",
    "display(slider_one)\n",
    "display(slider_two)"
   ]
  },
  {
   "cell_type": "markdown",
   "metadata": {},
   "source": [
    "##a new workflow\n",
    "\n",
    "Now, we don't need to wait for responses from Plotly, we can simply iteratively update a widget without leaving client-side operations in JS! Slick!\n",
    "\n",
    "Let's make a blank graph and then update it."
   ]
  },
  {
   "cell_type": "code",
   "execution_count": 6,
   "metadata": {
    "collapsed": true
   },
   "outputs": [],
   "source": [
    "# you can call GraphWidget with a preexisting graph\n",
    "# however, when left alone, you just get a blank plot to build with\n",
    "graph = GraphWidget()\n",
    "graph"
   ]
  },
  {
   "cell_type": "markdown",
   "metadata": {},
   "source": [
    "##plot\n",
    "\n",
    "The widget `plot` call mimics the signature of the `plotly.plotly.plot` function. You may build figures as you have previously with the plotly Python module.\n",
    "\n",
    "Let's make a bar chart!"
   ]
  },
  {
   "cell_type": "code",
   "execution_count": 7,
   "metadata": {
    "collapsed": false
   },
   "outputs": [],
   "source": [
    "data = [Bar(y=[1, 2, 3])]\n",
    "graph.plot(data)"
   ]
  },
  {
   "cell_type": "markdown",
   "metadata": {},
   "source": [
    "##iterative!\n",
    "\n",
    "And remember, the hard work of communicating and setting up a plotting area is already done, so iterating on the above plot is much faster."
   ]
  },
  {
   "cell_type": "code",
   "execution_count": 8,
   "metadata": {
    "collapsed": false
   },
   "outputs": [],
   "source": [
    "data[0]['marker'] = {'color': 'orange'}\n",
    "graph.plot(data)"
   ]
  },
  {
   "cell_type": "markdown",
   "metadata": {},
   "source": [
    "##--> graph widget challenge <--\n",
    "\n",
    "Using the `challenge_graph` and the `t` and `x` arrays, create a line plot with the following qualities:\n",
    "\n",
    "* xaxis title 'time (s)'\n",
    "* yaxis title 'distance (m)'\n",
    "* plot title 'newton knows best'"
   ]
  },
  {
   "cell_type": "code",
   "execution_count": 9,
   "metadata": {
    "collapsed": true
   },
   "outputs": [],
   "source": [
    "g = -9.81  # m/s^2\n",
    "t = np.linspace(0, 10, 100)  # [s, ...]\n",
    "x = 0.5*g*t*t  # zero initial conditions : )\n",
    "\n",
    "challenge_graph = GraphWidget()\n",
    "challenge_graph"
   ]
  },
  {
   "cell_type": "markdown",
   "metadata": {},
   "source": [
    "##infinitely customizable!\n",
    "\n",
    "Since you can create widgets to interact with the user via the frontend JS, *and* the `plotly` module gives you a way to interact with Plotly plots in JS, you can do all sorts of fun things!\n",
    "\n",
    "One simple example is attaching a scalar to a slider widget and updating the graph on change."
   ]
  },
  {
   "cell_type": "code",
   "execution_count": 10,
   "metadata": {
    "collapsed": false
   },
   "outputs": [],
   "source": [
    "gravity_graph = GraphWidget()\n",
    "scalar_slider = widgets.FloatSlider(min=-20, max=0, step=0.1, value=-9.81)\n",
    "display(scalar_slider)\n",
    "display(gravity_graph)"
   ]
  },
  {
   "cell_type": "code",
   "execution_count": 11,
   "metadata": {
    "collapsed": true
   },
   "outputs": [],
   "source": [
    "t = np.linspace(0, 10, 100)  # [s, ...]\n",
    "g = scalar_slider.value\n",
    "x = 0.5*g*t*t  # zero initial conditions : )\n",
    "figure = Figure()\n",
    "figure['data'] = [Scatter(x=t, y=x)]\n",
    "figure['layout'].update(title='gravity graph',\n",
    "                        xaxis=XAxis(title='time (s)'),\n",
    "                        yaxis=YAxis(title='distance (m)', range=[-400, 0], autorange=False))\n",
    "gravity_graph.plot(figure)\n",
    "\n",
    "def update_gravity():\n",
    "    g = scalar_slider.value\n",
    "    x = 0.5*g*t*t  # zero initial conditions : )\n",
    "    gravity_graph.restyle({'y': [x]})\n",
    "\n",
    "scalar_slider.on_trait_change(update_gravity, 'value')"
   ]
  },
  {
   "cell_type": "markdown",
   "metadata": {},
   "source": [
    "##--> widget interaction challenge <--\n",
    "\n",
    "Leverage widgets and the given data structure to plot the data given by selecting an option from the dropdown widget."
   ]
  },
  {
   "cell_type": "code",
   "execution_count": 12,
   "metadata": {
    "collapsed": false
   },
   "outputs": [],
   "source": [
    "data = [Scatter(y=[random.random() for j in range(100)], name='trace_{}'.format(i)) for i in range(30)]\n",
    "\n",
    "# hint you can use the 'options' attribute to set the dropdown options\n",
    "dropdown = widgets.Dropdown()\n",
    "selection_graph = GraphWidget()\n",
    "display(dropdown)\n",
    "display(selection_graph)"
   ]
  },
  {
   "cell_type": "code",
   "execution_count": 13,
   "metadata": {
    "collapsed": false
   },
   "outputs": [],
   "source": [
    "# here's some motivation\n",
    "figure = Figure()\n",
    "figure['data'].extend(data)\n",
    "figure['layout'].update(showlegend=False)\n",
    "selection_graph.plot(figure)"
   ]
  },
  {
   "cell_type": "markdown",
   "metadata": {},
   "source": [
    "##recap\n",
    "\n",
    "* IPython/Jupyter offers widgets so that JS things in the frontend can talk to the Python code your running\n",
    "* the plotly module integrates with the widget framework and gives you methods to update plots *fast*\n",
    "* you can create new widgets to add custom interactions to plots to extend usability and assist in data exploration"
   ]
  },
  {
   "cell_type": "markdown",
   "metadata": {},
   "source": [
    "##challenge answers\n",
    "\n",
    "###slide calculator challenge\n",
    "\n",
    "You need to register a callback that updates the second slider using the `on_trait_change` widget method.\n",
    "\n",
    "    def update_slider_two():\n",
    "        slider_two.value = np.sin(slider_one.value)\n",
    "\n",
    "    slider_one.on_trait_change(update_slider_two, 'value')\n",
    "    \n",
    "###graph widget challenge\n",
    "\n",
    "You need to create a figure using the plotly module and then use the `GraphWidget.plot` method to draw it.\n",
    "\n",
    "    figure = Figure()\n",
    "    figure['data'] = [Scatter(mode='lines', x=t, y=x)]\n",
    "    figure['layout'].update(title='newton knows best', xaxis=XAxis(title='time'), yaxis=YAxis(title='distance'))\n",
    "    challenge_graph.plot(figure)\n",
    "    \n",
    "###widget interaction challenge\n",
    "\n",
    "You need to set the dropdown options using the `dropdown.options` attribute. Then, you need to make a callback to change the `selection_graph` widget based on the current `dropdown` selection. Finally, you need to register that call back to run whenever value of the dropbox is altered.\n",
    "\n",
    "    dropdown.options=[(e['name'], i) for i, e in enumerate(data)]\n",
    "\n",
    "    def update_graph_selection():\n",
    "        selection = dropdown.value\n",
    "        visible = [i == selection for i in range(len(data))]\n",
    "        selection_graph.restyle({'visible': visible})\n",
    "\n",
    "    dropdown.on_trait_change(update_graph_selection, 'value')"
   ]
  },
  {
   "cell_type": "code",
   "execution_count": null,
   "metadata": {
    "collapsed": true
   },
   "outputs": [],
   "source": []
  }
 ],
 "metadata": {
  "kernelspec": {
   "display_name": "Python 2",
   "language": "python",
   "name": "python2"
  },
  "language_info": {
   "codemirror_mode": {
    "name": "ipython",
    "version": 2
   },
   "file_extension": ".py",
   "mimetype": "text/x-python",
   "name": "python",
   "nbconvert_exporter": "python",
   "pygments_lexer": "ipython2",
   "version": "2.7.8"
  }
 },
 "nbformat": 4,
 "nbformat_minor": 0
}
