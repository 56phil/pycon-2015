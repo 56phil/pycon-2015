{
 "cells": [
  {
   "cell_type": "markdown",
   "metadata": {},
   "source": [
    "##introduction to matplotlib\n",
    "\n",
    "Looking for some light matplotlib reading? Look no further (or do, that's alright too):\n",
    "\n",
    "http://matplotlib.org/\n",
    "\n",
    "http://matplotlib.org/Matplotlib.pdf"
   ]
  },
  {
   "cell_type": "code",
   "execution_count": 1,
   "metadata": {
    "collapsed": true
   },
   "outputs": [],
   "source": [
    "import matplotlib.pyplot as plt\n",
    "import numpy as np\n",
    "import plotly.plotly as py\n",
    "from matplotlib import mlab\n",
    "\n",
    "# this will make the figures *just show up* without a .show() call\n",
    "%matplotlib inline"
   ]
  },
  {
   "cell_type": "markdown",
   "metadata": {},
   "source": [
    "##easy tiger\n",
    "\n",
    "Let's start simply by using the first example in the matplotlib guidebook.\n",
    "\n",
    "Note that we'll retain references to the axes and figures we're working with. This will make it simpler to keep track of what we're doing in matplotlib and it will make it easier to eventually convert the figure with the plotly module."
   ]
  },
  {
   "cell_type": "code",
   "execution_count": 2,
   "metadata": {
    "collapsed": false
   },
   "outputs": [
    {
     "data": {
      "image/png": "[encoded data removed]",
      "text/plain": [
       "<matplotlib.figure.Figure at 0x10d6e2790>"
      ]
     },
     "metadata": {},
     "output_type": "display_data"
    }
   ],
   "source": [
    "# evenly sampled time at 200ms intervals\n",
    "t = np.arange(0., 5., 0.2)\n",
    "\n",
    "# red dashes, blue squares and green triangles\n",
    "# the '_' is just conventional for \"i don't care about this value\"\n",
    "fig, ax = plt.subplots()\n",
    "_ = ax.plot(t, t, 'r--', t, t**2, 'bs', t, t**3, 'g^')"
   ]
  },
  {
   "cell_type": "markdown",
   "metadata": {},
   "source": [
    "##your ax is your friend\n",
    "\n",
    "We'll mostly be creating/updating figures via the `axes` object we create, above just `ax`. Axes have a bunch of getter/setter methods associated with them which you can use to update the figure. For example let's set the axes titles."
   ]
  },
  {
   "cell_type": "code",
   "execution_count": 3,
   "metadata": {
    "collapsed": false
   },
   "outputs": [
    {
     "data": {
      "image/png": "[encoded data removed]",
      "text/plain": [
       "<matplotlib.figure.Figure at 0x10d6e2790>"
      ]
     },
     "execution_count": 3,
     "metadata": {},
     "output_type": "execute_result"
    }
   ],
   "source": [
    "ax.set_xlabel(\"i'm the xaxis\")\n",
    "ax.set_ylabel(\"i'm the yaxis\")\n",
    "fig"
   ]
  },
  {
   "cell_type": "markdown",
   "metadata": {},
   "source": [
    "##getp and setp\n",
    "\n",
    "To look at available attributes on matplotlib objects, you can use `matplotlib.pyplot.getp`. To set these attributes, you can go ahead and use (you guessed it) `matplotlib.pyplot.setp`.\n",
    "\n",
    "Let's use `setp` to set the axes title."
   ]
  },
  {
   "cell_type": "code",
   "execution_count": 4,
   "metadata": {
    "collapsed": false
   },
   "outputs": [
    {
     "name": "stdout",
     "output_type": "stream",
     "text": [
      "    adjustable = box\n",
      "    agg_filter = None\n",
      "    alpha = None\n",
      "    anchor = C\n",
      "    animated = False\n",
      "    aspect = auto\n",
      "    autoscale_on = True\n",
      "    autoscalex_on = True\n",
      "    autoscaley_on = True\n",
      "    axes = Axes(0.125,0.125;0.775x0.775)\n",
      "    axes_locator = None\n",
      "    axis_bgcolor = (1, 1, 1, 0)\n",
      "    axisbelow = False\n",
      "    children = [<matplotlib.axis.XAxis object at 0x10d679bd0>, <m...\n",
      "    clip_box = None\n",
      "    clip_on = True\n",
      "    clip_path = None\n",
      "    contains = None\n",
      "    cursor_props = (1, (0.0, 0.0, 0.0, 1.0))\n",
      "    data_ratio = 24.0\n",
      "    default_bbox_extra_artists = [<matplotlib.axis.XAxis object at 0x10d679bd0>, <m...\n",
      "    figure = Figure(480x320)\n",
      "    frame_on = True\n",
      "    geometry = (1, 1, 1)\n",
      "    gid = None\n",
      "    images = <a list of 0 AxesImage objects>\n",
      "    label = \n",
      "    legend = None\n",
      "    legend_handles_labels = ([], [])\n",
      "    lines = <a list of 3 Line2D objects>\n",
      "    navigate = True\n",
      "    navigate_mode = None\n",
      "    path_effects = []\n",
      "    picker = None\n",
      "    position = Bbox('array([[ 0.125,  0.125],\\n       [ 0.9  ,  0...\n",
      "    rasterization_zorder = None\n",
      "    rasterized = None\n",
      "    renderer_cache = <matplotlib.backends.backend_agg.RendererAgg insta...\n",
      "    shared_x_axes = <matplotlib.cbook.Grouper object at 0x10c430190>\n",
      "    shared_y_axes = <matplotlib.cbook.Grouper object at 0x10c4301d0>\n",
      "    sketch_params = None\n",
      "    snap = None\n",
      "    subplotspec = <matplotlib.gridspec.SubplotSpec object at 0x10d6e...\n",
      "    title = \n",
      "    transform = IdentityTransform()\n",
      "    transformed_clip_path_and_affine = (None, None)\n",
      "    url = None\n",
      "    visible = True\n",
      "    window_extent = TransformedBbox(Bbox('array([[ 0.125,  0.125],\\n  ...\n",
      "    xaxis = XAxis(60.000000,40.000000)\n",
      "    xaxis_transform = BlendedGenericTransform(CompositeGenericTransform(...\n",
      "    xbound = (0.0, 5.0)\n",
      "    xgridlines = <a list of 6 Line2D xgridline objects>\n",
      "    xlabel = i'm the xaxis\n",
      "    xlim = (0.0, 5.0)\n",
      "    xmajorticklabels = <a list of 6 Text xticklabel objects>\n",
      "    xminorticklabels = <a list of 0 Text xticklabel objects>\n",
      "    xscale = linear\n",
      "    xticklabels = <a list of 6 Text xticklabel objects>\n",
      "    xticklines = <a list of 12 Text xtickline objects>\n",
      "    xticks = [ 0.  1.  2.  3.  4.  5.]\n",
      "    yaxis = YAxis(60.000000,40.000000)\n",
      "    yaxis_transform = BlendedGenericTransform(BboxTransformTo(Transforme...\n",
      "    ybound = (0.0, 120.0)\n",
      "    ygridlines = <a list of 7 Line2D ygridline objects>\n",
      "    ylabel = i'm the yaxis\n",
      "    ylim = (0.0, 120.0)\n",
      "    ymajorticklabels = <a list of 7 Text yticklabel objects>\n",
      "    yminorticklabels = <a list of 0 Text yticklabel objects>\n",
      "    yscale = linear\n",
      "    yticklabels = <a list of 7 Text yticklabel objects>\n",
      "    yticklines = <a list of 14 Line2D ytickline objects>\n",
      "    yticks = [   0.   20.   40.   60.   80.  100.]...\n",
      "    zorder = 0\n"
     ]
    }
   ],
   "source": [
    "plt.getp(ax)"
   ]
  },
  {
   "cell_type": "code",
   "execution_count": 5,
   "metadata": {
    "collapsed": false
   },
   "outputs": [
    {
     "data": {
      "image/png": "[encoded data removed]",
      "text/plain": [
       "<matplotlib.figure.Figure at 0x10d6e2790>"
      ]
     },
     "execution_count": 5,
     "metadata": {},
     "output_type": "execute_result"
    }
   ],
   "source": [
    "plt.setp(ax, title=\"i'm the title\")\n",
    "fig"
   ]
  },
  {
   "cell_type": "markdown",
   "metadata": {},
   "source": [
    "##getters and setters\n",
    "\n",
    "Most all of the attributes seen with `getp` have associated `get_*` and `set_*` methods bound to the parent objects.\n",
    "\n",
    "Let's use `ax.set_xlim` to set new limits on our x data."
   ]
  },
  {
   "cell_type": "code",
   "execution_count": 6,
   "metadata": {
    "collapsed": false
   },
   "outputs": [
    {
     "data": {
      "image/png": "[encoded data removed]",
      "text/plain": [
       "<matplotlib.figure.Figure at 0x10d6e2790>"
      ]
     },
     "execution_count": 6,
     "metadata": {},
     "output_type": "execute_result"
    }
   ],
   "source": [
    "ax.set_xlim([0, 10])\n",
    "fig"
   ]
  },
  {
   "cell_type": "markdown",
   "metadata": {},
   "source": [
    "##figure conversion\n",
    "\n",
    "A Plotly figure exists as JSON in storage. To represent a matplotlib figure in Plotly, we first convert the matplotlib figure object into a collection of `dicts` and `lists`.\n",
    "\n",
    "###`*plot_mpl`\n",
    "\n",
    "Just like `plot` and `iplot`, you can attempt to save and plot a matplotlib figure in Plotly by using `plot_mpl` and `iplot_mpl`. Under the hood, these functions first convert the matplotlib figures, *then* send them to Plotly.\n",
    "\n",
    "Let's try it!"
   ]
  },
  {
   "cell_type": "code",
   "execution_count": 7,
   "metadata": {
    "collapsed": false,
    "scrolled": true
   },
   "outputs": [
    {
     "data": {
      "text/html": [
       "<iframe id=\"igraph\" scrolling=\"no\" style=\"border:none;\"seamless=\"seamless\" src=\"https://plot.ly/~theengineear/3418.embed\" height=\"525\" width=\"100%\"></iframe>"
      ],
      "text/plain": [
       "<plotly.tools.PlotlyDisplay object>"
      ]
     },
     "execution_count": 7,
     "metadata": {},
     "output_type": "execute_result"
    }
   ],
   "source": [
    "py.iplot_mpl(fig, filename='pycon_mpl_to_plotly')"
   ]
  },
  {
   "cell_type": "markdown",
   "metadata": {},
   "source": [
    "##practice practice practice :)\n",
    "\n",
    "* make a horizontal bar chart\n",
    "* make a line chart\n",
    "* make a bubble chart\n",
    "* make a histogram\n",
    "* make a log plot\n",
    "\n",
    "Finally, convert all of these to Plotly figures!"
   ]
  },
  {
   "cell_type": "markdown",
   "metadata": {},
   "source": [
    "##--> make some bars challenge <--\n",
    "\n",
    "* instead, make this horizontal\n",
    "* set the title to 'make some bars challenge'\n",
    "* then label the 'x' axis, 'x axis' and the 'y' axis, 'y axis'"
   ]
  },
  {
   "cell_type": "code",
   "execution_count": 8,
   "metadata": {
    "collapsed": false
   },
   "outputs": [
    {
     "data": {
      "text/html": [
       "<iframe id=\"igraph\" scrolling=\"no\" style=\"border:none;\"seamless=\"seamless\" src=\"https://plot.ly/~theengineear/3427.embed\" height=\"525\" width=\"100%\"></iframe>"
      ],
      "text/plain": [
       "<plotly.tools.PlotlyDisplay object>"
      ]
     },
     "execution_count": 8,
     "metadata": {},
     "output_type": "execute_result"
    }
   ],
   "source": [
    "fig, ax = plt.subplots()\n",
    "left = [1, 2, 3, 4, 5]\n",
    "height = [2, 3, 4, 2, 1]\n",
    "_ = ax.bar(left, height)\n",
    "\n",
    "py.iplot_mpl(fig, filename='pycon_make_some_mpl_bars')"
   ]
  },
  {
   "cell_type": "markdown",
   "metadata": {},
   "source": [
    "##--> make some lines challenge <--\n",
    "\n",
    "* change the y limits to run from -2 to 2\n",
    "* change the x limits to run from -2 to 2\n",
    "* add traces `y=x`, `y=x - x**3/6`, and `y=x - x**3/6 + x**5/24` (the lower approximations)"
   ]
  },
  {
   "cell_type": "code",
   "execution_count": 9,
   "metadata": {
    "collapsed": false
   },
   "outputs": [
    {
     "data": {
      "text/html": [
       "<iframe id=\"igraph\" scrolling=\"no\" style=\"border:none;\"seamless=\"seamless\" src=\"https://plot.ly/~theengineear/3428.embed\" height=\"525\" width=\"100%\"></iframe>"
      ],
      "text/plain": [
       "<plotly.tools.PlotlyDisplay object>"
      ]
     },
     "execution_count": 9,
     "metadata": {},
     "output_type": "execute_result"
    }
   ],
   "source": [
    "fig, ax = plt.subplots()\n",
    "x = np.linspace(-20, 20, num=200)\n",
    "y = x - x**3/6 + x**5/24 - x**7/120\n",
    "ax.plot(x, y)\n",
    "py.iplot_mpl(fig, filename='pycon_make_some_mpl_lines')"
   ]
  },
  {
   "cell_type": "markdown",
   "metadata": {},
   "source": [
    "##--> make a bubble chart challenge <--\n",
    "\n",
    "* alter the bubble sizes with the `s` variable\n",
    "* alter the color of the bubbles with the `c` variable\n",
    "* change the opacity (alpha) to be 0.3"
   ]
  },
  {
   "cell_type": "code",
   "execution_count": 10,
   "metadata": {
    "collapsed": false
   },
   "outputs": [
    {
     "data": {
      "text/html": [
       "<iframe id=\"igraph\" scrolling=\"no\" style=\"border:none;\"seamless=\"seamless\" src=\"https://plot.ly/~theengineear/3429.embed\" height=\"525\" width=\"100%\"></iframe>"
      ],
      "text/plain": [
       "<plotly.tools.PlotlyDisplay object>"
      ]
     },
     "execution_count": 10,
     "metadata": {},
     "output_type": "execute_result"
    }
   ],
   "source": [
    "colors = ['red', 'orange', 'yellow', 'green', 'blue', 'indigo', 'violet']\n",
    "x = [np.random.randint(0, 100) for _ in xrange(500)]\n",
    "y = [np.random.randint(0, 100) for _ in xrange(500)]\n",
    "s = [np.random.randint(100, 1000) for _ in xrange(500)]\n",
    "c = [np.random.choice(colors) for _ in xrange(500)]\n",
    "\n",
    "fig, ax = plt.subplots()\n",
    "ax.scatter(x, y)\n",
    "\n",
    "py.iplot_mpl(fig, filename='pycon_make_some_mpl_bubbles')"
   ]
  },
  {
   "cell_type": "markdown",
   "metadata": {},
   "source": [
    "##--> make a histogram challenge <--\n",
    "\n",
    "* use `mlab.normpdf` to add a normal fit (use `mu=0` and `sigma=1`)"
   ]
  },
  {
   "cell_type": "code",
   "execution_count": 11,
   "metadata": {
    "collapsed": false
   },
   "outputs": [
    {
     "data": {
      "text/html": [
       "<iframe id=\"igraph\" scrolling=\"no\" style=\"border:none;\"seamless=\"seamless\" src=\"https://plot.ly/~theengineear/3430.embed\" height=\"525\" width=\"100%\"></iframe>"
      ],
      "text/plain": [
       "<plotly.tools.PlotlyDisplay object>"
      ]
     },
     "execution_count": 11,
     "metadata": {},
     "output_type": "execute_result"
    }
   ],
   "source": [
    "fig, ax = plt.subplots()\n",
    "\n",
    "x = np.random.randn(2000)\n",
    "n, bins, patches = ax.hist(x, 100, normed=1)\n",
    "py.iplot_mpl(fig, filename='pycon_make_an_mpl_histogram')"
   ]
  },
  {
   "cell_type": "markdown",
   "metadata": {},
   "source": [
    "##--> make a log plot challenge <--\n",
    "\n",
    "* make *both* axes logarithmic instead of just `'x'`"
   ]
  },
  {
   "cell_type": "code",
   "execution_count": 12,
   "metadata": {
    "collapsed": false
   },
   "outputs": [
    {
     "data": {
      "text/html": [
       "<iframe id=\"igraph\" scrolling=\"no\" style=\"border:none;\"seamless=\"seamless\" src=\"https://plot.ly/~theengineear/3431.embed\" height=\"525\" width=\"100%\"></iframe>"
      ],
      "text/plain": [
       "<plotly.tools.PlotlyDisplay object>"
      ]
     },
     "execution_count": 12,
     "metadata": {},
     "output_type": "execute_result"
    }
   ],
   "source": [
    "fig, ax = plt.subplots()\n",
    "x = [10**i for i in xrange(1, 10)]\n",
    "y = [i**10 for i in x]\n",
    "ax.semilogx(x, y, 'ro')\n",
    "py.iplot_mpl(fig, filename='pycon_make_some_mpl_logs')"
   ]
  },
  {
   "cell_type": "markdown",
   "metadata": {},
   "source": [
    "##challenge answers\n",
    "\n",
    "###make some bars challenge\n",
    "\n",
    "    fig, ax = plt.subplots()\n",
    "    bottom = [1, 2, 3, 4, 5]\n",
    "    width = [2, 3, 4, 2, 1]\n",
    "    ax.barh(bottom, width)\n",
    "    ax.set_xlabel('x axis')\n",
    "    ax.set_ylabel('y axis')\n",
    "    ax.set_title('make some bars challenge')\n",
    "    py.iplot_mpl(fig, filename='pycon_make_some_mpl_bars')\n",
    "    \n",
    "\n",
    "###make some lines challenge\n",
    "\n",
    "    ax.plot(x, x)\n",
    "    ax.plot(x, x - x**3/6)\n",
    "    ax.plot(x, x - x**3/6 + x**5/24)\n",
    "    ax.set_ylim([-2, 2])\n",
    "    ax.set_xlim([-2, 2])\n",
    "    py.iplot_mpl(fig, filename='pycon_make_some_mpl_lines')\n",
    "\n",
    "###make some bubbles challenge\n",
    "\n",
    "    fig, ax = plt.subplots()\n",
    "    ax.scatter(x, y, s=s, c=c, alpha=0.3)\n",
    "    py.iplot_mpl(fig, filename='pycon_make_some_mpl_bubbles')\n",
    "\n",
    "###make a histogram challenge\n",
    "\n",
    "    mu, sigma = 0, 1\n",
    "    y = mlab.normpdf( bins, mu, sigma)\n",
    "    ax.plot(bins, y, 'r--', linewidth=2)\n",
    "    py.iplot_mpl(fig, filename='pycon_make_an_mpl_histogram')\n",
    "\n",
    "###make some logs challenge\n",
    "\n",
    "    fig, ax = plt.subplots()\n",
    "    x = [10**i for i in xrange(1, 10)]\n",
    "    y = [i**10 for i in x]\n",
    "    ax.loglog(x, y, 'ro')\n",
    "    py.iplot_mpl(fig, filename='pycon_make_some_mpl_logs')"
   ]
  },
  {
   "cell_type": "code",
   "execution_count": null,
   "metadata": {
    "collapsed": true
   },
   "outputs": [],
   "source": []
  }
 ],
 "metadata": {
  "kernelspec": {
   "display_name": "Python 2",
   "language": "python",
   "name": "python2"
  },
  "language_info": {
   "codemirror_mode": {
    "name": "ipython",
    "version": 2
   },
   "file_extension": ".py",
   "mimetype": "text/x-python",
   "name": "python",
   "nbconvert_exporter": "python",
   "pygments_lexer": "ipython2",
   "version": "2.7.8"
  }
 },
 "nbformat": 4,
 "nbformat_minor": 0
}
