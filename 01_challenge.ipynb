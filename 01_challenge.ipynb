{
 "metadata": {
  "name": "",
  "signature": "sha256:91e8da5cd6b9a2c2ee2aeaf99bae40cc72afdec31f9f50b3b9463944e6bb67c4"
 },
 "nbformat": 3,
 "nbformat_minor": 0,
 "worksheets": [
  {
   "cells": [
    {
     "cell_type": "heading",
     "level": 2,
     "metadata": {},
     "source": [
      "Basic data analysis and plotting"
     ]
    },
    {
     "cell_type": "markdown",
     "metadata": {},
     "source": [
      "The goal of this section is to import some data, perform some basic analysis on it, then plot a histogram and a scatter plot from it."
     ]
    },
    {
     "cell_type": "markdown",
     "metadata": {},
     "source": [
      "Let's use the data found here: https://raw.githubusercontent.com/mkcor/baseball-notebook/master/Batting.csv"
     ]
    },
    {
     "cell_type": "heading",
     "level": 6,
     "metadata": {},
     "source": [
      "1. Load the data"
     ]
    },
    {
     "cell_type": "code",
     "collapsed": false,
     "input": [
      "import pandas as pd"
     ],
     "language": "python",
     "metadata": {},
     "outputs": []
    },
    {
     "cell_type": "markdown",
     "metadata": {},
     "source": [
      "You could also use `numpy`."
     ]
    },
    {
     "cell_type": "heading",
     "level": 6,
     "metadata": {},
     "source": [
      "2. Filter out old years"
     ]
    },
    {
     "cell_type": "markdown",
     "metadata": {},
     "source": [
      "Check the size/length of your data. Keep the data corresponding to recent years only (say, > 2003)."
     ]
    },
    {
     "cell_type": "heading",
     "level": 6,
     "metadata": {},
     "source": [
      "3. Get the mean value for At Bats (AB). Same for Hits (H)."
     ]
    },
    {
     "cell_type": "markdown",
     "metadata": {},
     "source": [
      "Use tab autocompletion to look up available methods and attributes for a given object."
     ]
    },
    {
     "cell_type": "heading",
     "level": 6,
     "metadata": {},
     "source": [
      "4. Make a histogram to show the distribution of AB."
     ]
    },
    {
     "cell_type": "markdown",
     "metadata": {},
     "source": [
      "Make it with `plotly`."
     ]
    },
    {
     "cell_type": "code",
     "collapsed": false,
     "input": [
      "import plotly.plotly as py\n",
      "from plotly.graph_objs import Histogram"
     ],
     "language": "python",
     "metadata": {},
     "outputs": []
    },
    {
     "cell_type": "markdown",
     "metadata": {},
     "source": [
      "Run `help(Histogram)`."
     ]
    },
    {
     "cell_type": "heading",
     "level": 6,
     "metadata": {},
     "source": [
      "5. Make a scatter plot showing H vs AB."
     ]
    },
    {
     "cell_type": "code",
     "collapsed": false,
     "input": [
      "from plotly.graph_objs import Scatter"
     ],
     "language": "python",
     "metadata": {},
     "outputs": []
    },
    {
     "cell_type": "markdown",
     "metadata": {},
     "source": [
      "Run `help(Scatter)`."
     ]
    },
    {
     "cell_type": "heading",
     "level": 6,
     "metadata": {},
     "source": [
      "6. Add player names (IDs) as hover text!"
     ]
    },
    {
     "cell_type": "markdown",
     "metadata": {},
     "source": [
      "<br><br><br><br><br><br><br><br><br><br><br><br><br><br><br><br><br><br><br><br><br><br><br><br><br><br><br><br><br><br><br><br>"
     ]
    },
    {
     "cell_type": "heading",
     "level": 3,
     "metadata": {},
     "source": [
      "A possible answer"
     ]
    },
    {
     "cell_type": "code",
     "collapsed": false,
     "input": [
      "# 1.\n",
      "data = pd.read_csv('https://raw.githubusercontent.com/mkcor/baseball-notebook/master/Batting.csv')\n",
      "# 2.\n",
      "data = data[data['yearID'] > 2003]\n",
      "# 3.\n",
      "print(data['AB'].mean())\n",
      "print(data['H'].mean())"
     ],
     "language": "python",
     "metadata": {},
     "outputs": []
    },
    {
     "cell_type": "code",
     "collapsed": false,
     "input": [
      "# 4.\n",
      "%matplotlib inline\n",
      "data['AB'].hist()"
     ],
     "language": "python",
     "metadata": {},
     "outputs": []
    },
    {
     "cell_type": "code",
     "collapsed": false,
     "input": [
      "# help(Histogram)\n",
      "trace = Histogram(x=data['AB'])"
     ],
     "language": "python",
     "metadata": {},
     "outputs": []
    },
    {
     "cell_type": "code",
     "collapsed": false,
     "input": [
      "py.iplot([trace], filename='pycon_histogram')"
     ],
     "language": "python",
     "metadata": {},
     "outputs": []
    },
    {
     "cell_type": "code",
     "collapsed": false,
     "input": [
      "# 5.\n",
      "trace = Scatter(x=data['AB'], y=data['H'], mode='markers')"
     ],
     "language": "python",
     "metadata": {},
     "outputs": []
    },
    {
     "cell_type": "code",
     "collapsed": false,
     "input": [
      "py.iplot([trace], filename='pycon_scatter')"
     ],
     "language": "python",
     "metadata": {},
     "outputs": []
    },
    {
     "cell_type": "code",
     "collapsed": false,
     "input": [
      "# 6.\n",
      "trace = Scatter(x=data['AB'], y=data['H'], text=data['playerID'], mode='markers')"
     ],
     "language": "python",
     "metadata": {},
     "outputs": []
    },
    {
     "cell_type": "code",
     "collapsed": false,
     "input": [
      "py.iplot([trace], filename='pycon_scatter')"
     ],
     "language": "python",
     "metadata": {},
     "outputs": []
    }
   ],
   "metadata": {}
  }
 ]
}