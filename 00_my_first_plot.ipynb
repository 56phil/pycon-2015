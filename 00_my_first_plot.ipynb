{
 "cells": [
  {
   "cell_type": "markdown",
   "metadata": {},
   "source": [
    "##heck yeah, plots!\n",
    "\n",
    "In this notebook, we'll make our first Plotly plot in Python with the plotly package.\n",
    "\n",
    "##slight aside\n",
    "\n",
    "When we refer to *plotly* in lowercase, we mean to say the *plotly Python package*. When we refer to *Plotly* with a capital *P*, we mean to say the Plotly website/webapp.\n",
    "\n",
    "##nuts and bolts\n",
    "\n",
    "When we make plots in Plotly, this is what's happening:\n",
    "\n",
    "* call `py.*plot()` with some data\n",
    "* a request is sent to Plotly\n",
    "* the Plotly database is updated (on success)\n",
    "* the resulting url is sent back to you\n",
    "* the content at this url is embeddd in an iframe\n"
   ]
  },
  {
   "cell_type": "code",
   "execution_count": 1,
   "metadata": {
    "collapsed": false
   },
   "outputs": [
    {
     "name": "stdout",
     "output_type": "stream",
     "text": [
      "1.6.13\n"
     ]
    }
   ],
   "source": [
    "# plotly.plotly contains all the machinery to communicate with Plotly\n",
    "import plotly.plotly as py\n",
    "\n",
    "# plotly.graph_objs contains all the helper classes to make/style plots\n",
    "from plotly.graph_objs import Figure, Bar\n",
    "\n",
    "# let's also print out the version we're running :)\n",
    "import plotly\n",
    "print(plotly.__version__)"
   ]
  },
  {
   "cell_type": "markdown",
   "metadata": {},
   "source": [
    "## credentials\n",
    "\n",
    "Let's talk about credentials. Info on can be found at:\n",
    "\n",
    "https://plot.ly/python/getting-started\n",
    "\n",
    "We store your credentials in a special `~/.plotly/.credentials` file. These are automatically found when you make calls to plotly. For this reason **there is never a reason to type your credentials in notebooks**. In fact, doing so makes your notebook *less* portable for other users who will have their own credentials.\n",
    "\n",
    "Again, your username/api_key pair allow you complete access to Plotly, it should not be shared.\n",
    "\n",
    "### file vs. session credentials\n",
    "\n",
    "We keep multiple levels of credentials for convenience.\n",
    "\n",
    "* file level (the `~/.plotly/.credentials` file)\n",
    "* session level (lives in `plotly.session.py`)\n",
    "\n",
    "### getting credentials\n",
    "\n",
    "One major temptation to hard-code credentials is when streaming data. However, we **strongly** suggest using the following alternative.\n",
    "\n",
    "    creds = py.get_credentials()\n",
    "    username = creds['username']\n",
    "    api_key = creds['api_key']\n",
    "    stream_ids = creds['stream_ids']"
   ]
  },
  {
   "cell_type": "code",
   "execution_count": 2,
   "metadata": {
    "collapsed": false
   },
   "outputs": [
    {
     "name": "stdout",
     "output_type": "stream",
     "text": [
      "[u'username', u'stream_ids', u'api_key']\n"
     ]
    }
   ],
   "source": [
    "print(py.get_credentials().keys())"
   ]
  },
  {
   "cell_type": "markdown",
   "metadata": {},
   "source": [
    "## data\n",
    "\n",
    "We'll refer to the `data` array a lot in these notebooks. Plotly recognizes what we call `traces` as the elements of data arrays. Each `trace` represents a single visualization.\n",
    "\n",
    "The different trace types are defined in `plotly.graph_objs`, we've imported `Bar` already, so let's use that!"
   ]
  },
  {
   "cell_type": "code",
   "execution_count": 3,
   "metadata": {
    "collapsed": false,
    "scrolled": false
   },
   "outputs": [
    {
     "data": {
      "text/html": [
       "<iframe id=\"igraph\" scrolling=\"no\" style=\"border:none;\"seamless=\"seamless\" src=\"https://plot.ly/~theengineear/3406.embed\" height=\"525\" width=\"100%\"></iframe>"
      ],
      "text/plain": [
       "<plotly.tools.PlotlyDisplay object>"
      ]
     },
     "execution_count": 3,
     "metadata": {},
     "output_type": "execute_result"
    }
   ],
   "source": [
    "trace = Bar(y=[1, 3, 2, 4, 5, 2, 1])\n",
    "py.iplot([trace], filename='pycon_i_<3_plots_0')"
   ]
  },
  {
   "cell_type": "markdown",
   "metadata": {},
   "source": [
    "##the `plot` command\n",
    "\n",
    "The `plotly` module has one main plotting method, `plot`. It makes a call to Plotly to insert new information into our database. At its core, `plot` creates a resource and returns a url upon success.\n",
    "\n",
    "##the `iplot` command\n",
    "\n",
    "This is just a wrapper around `plot` that takes the url returned from `plot` and embeds it in an iframe. This is what we'll be using most as we'll be embedding iframes in our IPython/Jupyter notebooks."
   ]
  },
  {
   "cell_type": "code",
   "execution_count": 4,
   "metadata": {
    "collapsed": false
   },
   "outputs": [
    {
     "name": "stdout",
     "output_type": "stream",
     "text": [
      "https://plot.ly/~theengineear/3406\n"
     ]
    }
   ],
   "source": [
    "trace = Bar(y=[1, 3, 2, 4, 5, 2, 1])\n",
    "\n",
    "# by default auto_open is True, this will force your default web browser to open with the new plot\n",
    "print py.plot([trace], filename='pycon_i_<3_plots_0', auto_open=False)"
   ]
  },
  {
   "cell_type": "markdown",
   "metadata": {},
   "source": [
    "## layout\n",
    "\n",
    "Where `data` holds traces and trace-specific styling, `layout` holds *everything else*. Together, they make a `figure`.\n",
    "\n",
    "Let's add a title to our plot."
   ]
  },
  {
   "cell_type": "code",
   "execution_count": 5,
   "metadata": {
    "collapsed": false
   },
   "outputs": [
    {
     "data": {
      "text/html": [
       "<iframe id=\"igraph\" scrolling=\"no\" style=\"border:none;\"seamless=\"seamless\" src=\"https://plot.ly/~theengineear/3407.embed\" height=\"525\" width=\"100%\"></iframe>"
      ],
      "text/plain": [
       "<plotly.tools.PlotlyDisplay object>"
      ]
     },
     "execution_count": 5,
     "metadata": {},
     "output_type": "execute_result"
    }
   ],
   "source": [
    "data = [Bar(y=[1, 3, 2, 4, 5, 2, 1])]\n",
    "layout = {'title': 'i love snakes!'}\n",
    "fig = {'data': data, 'layout': layout}\n",
    "py.iplot(fig, filename='pycon_i_<3_plots_1')"
   ]
  },
  {
   "cell_type": "markdown",
   "metadata": {},
   "source": [
    "##some comments\n",
    "\n",
    "You've now seen a couple ways to make plots (via `data` directly or with a `figure`). You should also note that when you use a filename that already exists in your account, we'll overwrite the file by default.\n",
    "\n",
    "Lastly, there's a more elegant syntax to the above (which we believe remains just as declarative)"
   ]
  },
  {
   "cell_type": "code",
   "execution_count": 6,
   "metadata": {
    "collapsed": false
   },
   "outputs": [
    {
     "data": {
      "text/html": [
       "<iframe id=\"igraph\" scrolling=\"no\" style=\"border:none;\"seamless=\"seamless\" src=\"https://plot.ly/~theengineear/3407.embed\" height=\"525\" width=\"100%\"></iframe>"
      ],
      "text/plain": [
       "<plotly.tools.PlotlyDisplay object>"
      ]
     },
     "execution_count": 6,
     "metadata": {},
     "output_type": "execute_result"
    }
   ],
   "source": [
    "fig = Figure()\n",
    "fig['data'].append(Bar(y=[1, 3, 2, 4, 5, 2, 1]))\n",
    "fig['layout'].update(title='i love snakes!')\n",
    "py.iplot(fig, filename='pycon_i_<3_plots_1')"
   ]
  },
  {
   "cell_type": "markdown",
   "metadata": {},
   "source": [
    "##wrap up\n",
    "\n",
    "Just that little `plot` command has done a whole lot!\n",
    "\n",
    "###saving the plot\n",
    "\n",
    "When you make this call, you actually update information in the Plotly database regarding your profile and plots. Each plot you make is given a unique url. As long as you don't delete this plot, that url will *always* point to it, so you now have a persistant link to share. Additionally, not only is there a visualizaiton at that link, but since Plotly keeps data *and* visualization together, that link also doubles as data source.\n",
    "\n",
    "###embedding the plot\n",
    "\n",
    "The content at that url is then put in an iframe and shown in the output cell. The actual rendering of the plot is done in JS, client-side. That is, the data and machinery to draw the figure are delivered as content when accessing the unique url, and the actual drawing is done by your browser once you get it.\n",
    "\n",
    "###viewing / editing plots\n",
    "\n",
    "Go ahead and click on the link in the bottom-righthand corner of the plot. That will take you to Plotly where you have options to fork and/or edit the graph."
   ]
  },
  {
   "cell_type": "markdown",
   "metadata": {
    "collapsed": true
   },
   "source": [
    "##practice practice practice :)\n",
    "\n",
    "* make a horizontal bar chart\n",
    "* make a line chart\n",
    "* make a bubble chart\n",
    "* make a histogram\n",
    "* make a log plot\n",
    "\n",
    "###help!\n",
    "\n",
    "If you forget the parameter names and what they mean, try using `help(Obj)`, e.g., `help(Bar)`."
   ]
  },
  {
   "cell_type": "code",
   "execution_count": 7,
   "metadata": {
    "collapsed": true
   },
   "outputs": [],
   "source": [
    "# for fun with arrays\n",
    "import numpy as np\n",
    "\n",
    "# some more things we'll need from graph_objs\n",
    "from plotly.graph_objs import Histogram, Line, Marker, Scatter, XAxis, YAxis"
   ]
  },
  {
   "cell_type": "markdown",
   "metadata": {},
   "source": [
    "##--> make some bars challenge <--\n",
    "\n",
    "* change this so that the colors cycle between `'#FFDC00'`, `'#FF851B'`, and `'#FF4136'`\n",
    "* change this so that the bar chart is horizontal"
   ]
  },
  {
   "cell_type": "code",
   "execution_count": 8,
   "metadata": {
    "collapsed": false
   },
   "outputs": [
    {
     "data": {
      "text/html": [
       "<iframe id=\"igraph\" scrolling=\"no\" style=\"border:none;\"seamless=\"seamless\" src=\"https://plot.ly/~theengineear/3409.embed\" height=\"525\" width=\"100%\"></iframe>"
      ],
      "text/plain": [
       "<plotly.tools.PlotlyDisplay object>"
      ]
     },
     "execution_count": 8,
     "metadata": {},
     "output_type": "execute_result"
    }
   ],
   "source": [
    "x = np.arange(0, np.pi, 0.1)\n",
    "y = np.sin(x)\n",
    "\n",
    "fig = Figure(data=[Bar(x=x, y=y)])\n",
    "py.iplot(fig, filename='pycon_make_some_bars')"
   ]
  },
  {
   "cell_type": "markdown",
   "metadata": {},
   "source": [
    "##--> make some lines challenge <--\n",
    "\n",
    "* change this so there are markers *and* lines\n",
    "* use 'text' for hover text"
   ]
  },
  {
   "cell_type": "code",
   "execution_count": 9,
   "metadata": {
    "collapsed": false
   },
   "outputs": [
    {
     "data": {
      "text/html": [
       "<iframe id=\"igraph\" scrolling=\"no\" style=\"border:none;\"seamless=\"seamless\" src=\"https://plot.ly/~theengineear/3414.embed\" height=\"525\" width=\"100%\"></iframe>"
      ],
      "text/plain": [
       "<plotly.tools.PlotlyDisplay object>"
      ]
     },
     "execution_count": 9,
     "metadata": {},
     "output_type": "execute_result"
    }
   ],
   "source": [
    "y = [8, 0, 2]\n",
    "text = ['ate', 'oh', 'too']\n",
    "\n",
    "figure = Figure()\n",
    "figure['data'].append(Scatter(y=y, mode='lines'))\n",
    "\n",
    "py.iplot(figure, filename='pycon_make_some_lines')"
   ]
  },
  {
   "cell_type": "markdown",
   "metadata": {},
   "source": [
    "##--> make some bubbles challenge <--\n",
    "\n",
    "* use `s` as the marker-size dimension\n",
    "* use `lw` as the marker-line-width dimension\n",
    "* use `c` as the marker-color dimension"
   ]
  },
  {
   "cell_type": "code",
   "execution_count": 10,
   "metadata": {
    "collapsed": false
   },
   "outputs": [
    {
     "data": {
      "text/html": [
       "<iframe id=\"igraph\" scrolling=\"no\" style=\"border:none;\"seamless=\"seamless\" src=\"https://plot.ly/~theengineear/3415.embed\" height=\"525\" width=\"100%\"></iframe>"
      ],
      "text/plain": [
       "<plotly.tools.PlotlyDisplay object>"
      ]
     },
     "execution_count": 10,
     "metadata": {},
     "output_type": "execute_result"
    }
   ],
   "source": [
    "x = [2, 3, 5, 1, 7]\n",
    "y = [4, 5, 2, 6, 8]\n",
    "s = [10, 20, 15, 30, 10]\n",
    "lw = [1, 4, 2, 3, 3]\n",
    "c = ['red', 'blue', 'orange', 'yellow', 'pink']\n",
    "\n",
    "figure = Figure()\n",
    "figure['data'].append(Scatter(x=x,\n",
    "                              y=y,\n",
    "                              mode='markers',\n",
    "                              marker=Marker(line=Line(color='black'))))\n",
    "\n",
    "py.iplot(figure, filename='pycon_make_some_bubbles')"
   ]
  },
  {
   "cell_type": "markdown",
   "metadata": {},
   "source": [
    "##--> make a histogram challenge <--\n",
    "\n",
    "* change this so that we're not showing frequency on the yaxis, but rather probability\n",
    "* change it so that there are only 10 bins along the xaxis"
   ]
  },
  {
   "cell_type": "code",
   "execution_count": 11,
   "metadata": {
    "collapsed": false
   },
   "outputs": [
    {
     "data": {
      "text/html": [
       "<iframe id=\"igraph\" scrolling=\"no\" style=\"border:none;\"seamless=\"seamless\" src=\"https://plot.ly/~theengineear/3416.embed\" height=\"525\" width=\"100%\"></iframe>"
      ],
      "text/plain": [
       "<plotly.tools.PlotlyDisplay object>"
      ]
     },
     "execution_count": 11,
     "metadata": {},
     "output_type": "execute_result"
    }
   ],
   "source": [
    "x = np.random.randn(5000)\n",
    "py.iplot([Histogram(x=x)], filename='pycon_make_a_histogram')"
   ]
  },
  {
   "cell_type": "markdown",
   "metadata": {},
   "source": [
    "##--> make some logs (they're better than bad, they're good!) challenge <--\n",
    "\n",
    "* change this so that the yaxis is also log\n",
    "* label the xaxis 'f'\n",
    "* label the yaxis 'abs_h'"
   ]
  },
  {
   "cell_type": "code",
   "execution_count": 12,
   "metadata": {
    "collapsed": false
   },
   "outputs": [
    {
     "data": {
      "text/html": [
       "<iframe id=\"igraph\" scrolling=\"no\" style=\"border:none;\"seamless=\"seamless\" src=\"https://plot.ly/~theengineear/3417.embed\" height=\"525\" width=\"100%\"></iframe>"
      ],
      "text/plain": [
       "<plotly.tools.PlotlyDisplay object>"
      ]
     },
     "execution_count": 12,
     "metadata": {},
     "output_type": "execute_result"
    }
   ],
   "source": [
    "c = 1e-3\n",
    "r = 1e2\n",
    "f = np.logspace(0, 10, num=50)\n",
    "h = 1/(1 + f*r*c*1j)\n",
    "abs_h = np.abs(h)\n",
    "\n",
    "fig = Figure()\n",
    "fig['data'].append(Scatter(x=f, y=abs_h))\n",
    "fig['layout'].update(xaxis=XAxis(type='log'))\n",
    "py.iplot(fig, filename='pycon_make_some_logs')"
   ]
  },
  {
   "cell_type": "markdown",
   "metadata": {
    "collapsed": true
   },
   "source": [
    "##challenge answers\n",
    "\n",
    "###make some bars challenge\n",
    "    \n",
    "    figure['data'][0]['marker'] = {'color': ['#FFDC00', '#FF851B', '#FF4136']*100}\n",
    "    figure['data'][0]['x'] = y\n",
    "    figure['data'][0]['y'] = x\n",
    "    py.iplot(figure, filename='pycon_make_some_bars')\n",
    "\n",
    "###make some lines challenge\n",
    "    \n",
    "    figure['data'][0]['mode'] = 'lines+markers'\n",
    "    figure['data'][0]['text'] = text\n",
    "    py.iplot(figure, filename='pycon_make_some_lines')\n",
    "\n",
    "###make some bubbles challenge\n",
    "\n",
    "    figure['data'][0]['marker']['size'] = s\n",
    "    figure['data'][0]['marker']['color'] = c\n",
    "    figure['data'][0]['marker']['line']['width'] = lw\n",
    "    py.iplot(figure, filename='pycon_make_some_bubbles')\n",
    "\n",
    "###make a histogram challenge\n",
    "\n",
    "    py.iplot([Histogram(x=x, histnorm='probability', nbinsx=10)],\n",
    "             filename='pycon_make_a_histogram')\n",
    "\n",
    "###make some logs challenge\n",
    "    \n",
    "    fig['layout'].update(xaxis=XAxis(type='log', title='f'))\n",
    "    fig['layout'].update(yaxis=YAxis(type='log', title='abs_h'))\n",
    "    py.iplot(fig, filename='pycon_make_some_logs')"
   ]
  },
  {
   "cell_type": "code",
   "execution_count": null,
   "metadata": {
    "collapsed": true
   },
   "outputs": [],
   "source": []
  }
 ],
 "metadata": {
  "kernelspec": {
   "display_name": "Python 2",
   "language": "python",
   "name": "python2"
  },
  "language_info": {
   "codemirror_mode": {
    "name": "ipython",
    "version": 2
   },
   "file_extension": ".py",
   "mimetype": "text/x-python",
   "name": "python",
   "nbconvert_exporter": "python",
   "pygments_lexer": "ipython2",
   "version": "2.7.8"
  }
 },
 "nbformat": 4,
 "nbformat_minor": 0
}
