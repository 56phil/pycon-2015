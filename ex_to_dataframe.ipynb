{
 "cells": [
  {
   "cell_type": "markdown",
   "metadata": {},
   "source": [
    "##Plotly and Pandas\n",
    "\n",
    "Pandas `DataFrame`s are powerful for analysis. Here, we'll briefly investigate converting a Plotly figure into a `DataFrame` with the `plotly` module and looking at some statistics."
   ]
  },
  {
   "cell_type": "code",
   "execution_count": 1,
   "metadata": {
    "collapsed": true
   },
   "outputs": [],
   "source": [
    "import numpy as np\n",
    "import pandas as pd\n",
    "\n",
    "import plotly.plotly as py\n",
    "import plotly.tools as tls"
   ]
  },
  {
   "cell_type": "code",
   "execution_count": 2,
   "metadata": {
    "collapsed": false
   },
   "outputs": [
    {
     "data": {
      "text/html": [
       "<iframe id=\"igraph\" scrolling=\"no\" style=\"border:none;\"seamless=\"seamless\" src=\"https://plot.ly/~ckaiwu/141.embed\" height=\"525\" width=\"100%\"></iframe>"
      ],
      "text/plain": [
       "<plotly.tools.PlotlyDisplay object>"
      ]
     },
     "execution_count": 2,
     "metadata": {},
     "output_type": "execute_result"
    }
   ],
   "source": [
    "# grab a graph and embed it so we know what we're working with\n",
    "tls.embed('https://plot.ly/~ckaiwu/141/prices/')"
   ]
  },
  {
   "cell_type": "code",
   "execution_count": 3,
   "metadata": {
    "collapsed": false
   },
   "outputs": [
    {
     "data": {
      "text/html": [
       "<div style=\"max-height:1000px;max-width:1500px;overflow:auto;\">\n",
       "<table border=\"1\" class=\"dataframe\">\n",
       "  <thead>\n",
       "    <tr style=\"text-align: right;\">\n",
       "      <th></th>\n",
       "      <th>dax30.x</th>\n",
       "      <th>dax30.y</th>\n",
       "      <th>ftse100.x</th>\n",
       "      <th>ftse100.y</th>\n",
       "      <th>sp500.x</th>\n",
       "      <th>sp500.y</th>\n",
       "    </tr>\n",
       "  </thead>\n",
       "  <tbody>\n",
       "    <tr>\n",
       "      <th>0</th>\n",
       "      <td> 1995-01-02</td>\n",
       "      <td>NaN</td>\n",
       "      <td> 1995-01-02</td>\n",
       "      <td>NaN</td>\n",
       "      <td> 1995-01-02</td>\n",
       "      <td>NaN</td>\n",
       "    </tr>\n",
       "    <tr>\n",
       "      <th>1</th>\n",
       "      <td> 1995-01-03</td>\n",
       "      <td>NaN</td>\n",
       "      <td> 1995-01-03</td>\n",
       "      <td>NaN</td>\n",
       "      <td> 1995-01-03</td>\n",
       "      <td>NaN</td>\n",
       "    </tr>\n",
       "    <tr>\n",
       "      <th>2</th>\n",
       "      <td> 1995-01-04</td>\n",
       "      <td>NaN</td>\n",
       "      <td> 1995-01-04</td>\n",
       "      <td>NaN</td>\n",
       "      <td> 1995-01-04</td>\n",
       "      <td>NaN</td>\n",
       "    </tr>\n",
       "    <tr>\n",
       "      <th>3</th>\n",
       "      <td> 1995-01-05</td>\n",
       "      <td>NaN</td>\n",
       "      <td> 1995-01-05</td>\n",
       "      <td>NaN</td>\n",
       "      <td> 1995-01-05</td>\n",
       "      <td>NaN</td>\n",
       "    </tr>\n",
       "    <tr>\n",
       "      <th>4</th>\n",
       "      <td> 1995-01-06</td>\n",
       "      <td>NaN</td>\n",
       "      <td> 1995-01-06</td>\n",
       "      <td>NaN</td>\n",
       "      <td> 1995-01-06</td>\n",
       "      <td>NaN</td>\n",
       "    </tr>\n",
       "  </tbody>\n",
       "</table>\n",
       "</div>"
      ],
      "text/plain": [
       "      dax30.x  dax30.y   ftse100.x  ftse100.y     sp500.x  sp500.y\n",
       "0  1995-01-02      NaN  1995-01-02        NaN  1995-01-02      NaN\n",
       "1  1995-01-03      NaN  1995-01-03        NaN  1995-01-03      NaN\n",
       "2  1995-01-04      NaN  1995-01-04        NaN  1995-01-04      NaN\n",
       "3  1995-01-05      NaN  1995-01-05        NaN  1995-01-05      NaN\n",
       "4  1995-01-06      NaN  1995-01-06        NaN  1995-01-06      NaN"
      ]
     },
     "execution_count": 3,
     "metadata": {},
     "output_type": "execute_result"
    }
   ],
   "source": [
    "# actually import this data into python now\n",
    "fig = py.get_figure('https://plot.ly/~ckaiwu/141/prices/')\n",
    "\n",
    "# convert the figure into a DataFrame\n",
    "df = fig.to_dataframe()\n",
    "\n",
    "# there happen to be u'' values in the data\n",
    "# .describe won't work properly when this is the case\n",
    "df = df.replace('', np.nan)\n",
    "df.head()"
   ]
  },
  {
   "cell_type": "code",
   "execution_count": 4,
   "metadata": {
    "collapsed": false
   },
   "outputs": [
    {
     "data": {
      "text/html": [
       "<div style=\"max-height:1000px;max-width:1500px;overflow:auto;\">\n",
       "<table border=\"1\" class=\"dataframe\">\n",
       "  <thead>\n",
       "    <tr style=\"text-align: right;\">\n",
       "      <th></th>\n",
       "      <th>dax30.y</th>\n",
       "      <th>ftse100.y</th>\n",
       "      <th>sp500.y</th>\n",
       "    </tr>\n",
       "  </thead>\n",
       "  <tbody>\n",
       "    <tr>\n",
       "      <th>count</th>\n",
       "      <td> 4952.000000</td>\n",
       "      <td> 4951.000000</td>\n",
       "      <td> 4951.000000</td>\n",
       "    </tr>\n",
       "    <tr>\n",
       "      <th>mean</th>\n",
       "      <td>    1.099991</td>\n",
       "      <td>    1.240664</td>\n",
       "      <td>    1.140199</td>\n",
       "    </tr>\n",
       "    <tr>\n",
       "      <th>std</th>\n",
       "      <td>    0.091035</td>\n",
       "      <td>    0.131055</td>\n",
       "      <td>    0.082983</td>\n",
       "    </tr>\n",
       "    <tr>\n",
       "      <th>min</th>\n",
       "      <td>    0.981822</td>\n",
       "      <td>    0.994067</td>\n",
       "      <td>    0.989218</td>\n",
       "    </tr>\n",
       "    <tr>\n",
       "      <th>25%</th>\n",
       "      <td>    1.000000</td>\n",
       "      <td>    1.151728</td>\n",
       "      <td>    1.080367</td>\n",
       "    </tr>\n",
       "    <tr>\n",
       "      <th>50%</th>\n",
       "      <td>    1.115933</td>\n",
       "      <td>    1.277406</td>\n",
       "      <td>    1.154638</td>\n",
       "    </tr>\n",
       "    <tr>\n",
       "      <th>75%</th>\n",
       "      <td>    1.177722</td>\n",
       "      <td>    1.357100</td>\n",
       "      <td>    1.206294</td>\n",
       "    </tr>\n",
       "    <tr>\n",
       "      <th>max</th>\n",
       "      <td>    1.266341</td>\n",
       "      <td>    1.436051</td>\n",
       "      <td>    1.282901</td>\n",
       "    </tr>\n",
       "  </tbody>\n",
       "</table>\n",
       "</div>"
      ],
      "text/plain": [
       "           dax30.y    ftse100.y      sp500.y\n",
       "count  4952.000000  4951.000000  4951.000000\n",
       "mean      1.099991     1.240664     1.140199\n",
       "std       0.091035     0.131055     0.082983\n",
       "min       0.981822     0.994067     0.989218\n",
       "25%       1.000000     1.151728     1.080367\n",
       "50%       1.115933     1.277406     1.154638\n",
       "75%       1.177722     1.357100     1.206294\n",
       "max       1.266341     1.436051     1.282901"
      ]
     },
     "execution_count": 4,
     "metadata": {},
     "output_type": "execute_result"
    }
   ],
   "source": [
    "# show some basic statistics about the data we've got\n",
    "df.describe()"
   ]
  },
  {
   "cell_type": "code",
   "execution_count": null,
   "metadata": {
    "collapsed": true
   },
   "outputs": [],
   "source": []
  }
 ],
 "metadata": {
  "kernelspec": {
   "display_name": "Python 2",
   "language": "python",
   "name": "python2"
  },
  "language_info": {
   "codemirror_mode": {
    "name": "ipython",
    "version": 2
   },
   "file_extension": ".py",
   "mimetype": "text/x-python",
   "name": "python",
   "nbconvert_exporter": "python",
   "pygments_lexer": "ipython2",
   "version": "2.7.8"
  }
 },
 "nbformat": 4,
 "nbformat_minor": 0
}
